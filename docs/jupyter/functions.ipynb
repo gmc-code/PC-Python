{
 "cells": [
  {
   "cell_type": "markdown",
   "id": "140cd6c4",
   "metadata": {},
   "source": [
    "# Functions"
   ]
  },
  {
   "cell_type": "markdown",
   "metadata": {},
   "source": [
    "See: <https://www.w3schools.com/python/python_functions.asp>\n",
    "\n",
    "Functions are blocks of code that can be used many times in a program.  \n",
    "They avoid code repetition.  \n",
    "Functions can do something or return values.  \n",
    "Functions are defined using the `def` keyword.  \n",
    "To use the function, it is *called* using its name with parentheses.\n",
    "\n",
    "------------------------------------------------------------------------\n",
    "\n",
    "## Functions without parameters\n",
    "\n",
    "The function below does something. It prints text.  \n",
    "It is defined using the `def` keyword and has empty parentheses.  \n",
    "The `def` line has a colon at the end and the code for the definition is\n",
    "indented.  \n",
    "To use the function, it is *called* using its name with parentheses;\n",
    "`show_welcome()`.\n",
    "\n",
    "\n"
   ]
  },
  {
   "cell_type": "code",
   "execution_count": 1,
   "id": "2e101f28",
   "metadata": {},
   "outputs": [
    {
     "name": "stdout",
     "output_type": "stream",
     "text": [
      "Hello python user!\n"
     ]
    }
   ],
   "source": [
    "def show_welcome():\n",
    "    print(\"Hello python user!\")\n",
    "\n",
    "show_welcome()"
   ]
  },
  {
   "cell_type": "markdown",
   "id": "ff3d37f4",
   "metadata": {},
   "source": [
    "\n",
    "Note\n",
    "\n",
    "Without the return statement, the function will return `None`.\n",
    "\n",
    "------------------------------------------------------------------------\n",
    "\n",
    "Tasks\n",
    "\n",
    "1.  Write a function called `print_name` that prints your name.\n",
    "2.  Write a function called `countdown` that counts down from 5 to 1,\n",
    "    printing each number.\n",
    "\n",
    "------------------------------------------------------------------------\n"
   ]
  },
  {
   "cell_type": "markdown",
   "id": "d8fec402",
   "metadata": {},
   "source": [
    "\n",
    "## Functions with parameters\n",
    "\n",
    "Functions can be more powerful by using <span\n",
    "class=\"title-ref\">parameters</span>.  \n",
    "A parameter is the variable in the parentheses of the function which\n",
    "allows information to be passed to the function.  \n",
    "An argument is the value in the parentheses that is sent to the function\n",
    "when it is called.  \n",
    "In the code below, `name` is the parameter, and `\"beginner\"` and\n",
    "`\"user\"` are the arguments."
   ]
  },
  {
   "cell_type": "code",
   "execution_count": 2,
   "id": "ff8d0ed6",
   "metadata": {},
   "outputs": [
    {
     "name": "stdout",
     "output_type": "stream",
     "text": [
      "Hello beginner\n",
      "Hello user\n"
     ]
    }
   ],
   "source": [
    "def show_welcome(name):\n",
    "    print(\"Hello \" + name)\n",
    "\n",
    "show_welcome(\"beginner\")\n",
    "show_welcome(\"user\")"
   ]
  },
  {
   "cell_type": "markdown",
   "id": "9a766810",
   "metadata": {},
   "source": [
    "------------------------------------------------------------------------\n",
    "\n",
    "## Functions with default parameters"
   ]
  },
  {
   "cell_type": "code",
   "execution_count": 3,
   "id": "d7c47ed2",
   "metadata": {},
   "outputs": [
    {
     "name": "stdout",
     "output_type": "stream",
     "text": [
      "New Guy earns $80000 per year\n",
      "A. Prentice earns $60000 per year\n",
      "B. Ginner earns $50000 per year\n"
     ]
    }
   ],
   "source": [
    "def employee_info(name=\"New Guy\", salary=80000):\n",
    "    print(f\"{name} earns ${salary} per year\")\n",
    "\n",
    "\n",
    "employee_info()\n",
    "employee_info(name=\"A. Prentice\", salary=60000)\n",
    "employee_info(\"B. Ginner\", 50000)"
   ]
  },
  {
   "cell_type": "markdown",
   "id": "e2e1d5cc",
   "metadata": {},
   "source": [
    "------------------------------------------------------------------------\n",
    "\n",
    "Tasks\n",
    "\n",
    "1.  Write a function called `player_info` with 3 default parameters for\n",
    "    their user_name, their number of game lives and their game health\n",
    "    status and print an example using it.\n",
    "\n",
    "------------------------------------------------------------------------\n"
   ]
  },
  {
   "cell_type": "markdown",
   "id": "8e3ad531",
   "metadata": {},
   "source": [
    "## Functions returning information\n",
    "\n",
    "Functions can be more powerful by <span class=\"title-ref\">returning\n",
    "values</span>.  \n",
    "The return value is what the function passes back to the code that\n",
    "called it.  \n",
    "Below is an example of a function that takes one parameter, the number\n",
    "of inches, and returns the number of centimetres."
   ]
  },
  {
   "cell_type": "code",
   "execution_count": 4,
   "id": "9af1ae29",
   "metadata": {},
   "outputs": [
    {
     "name": "stdout",
     "output_type": "stream",
     "text": [
      "20.32\n"
     ]
    }
   ],
   "source": [
    "def convert_inches_to_centimetres(inches):\n",
    "    return inches * 2.54\n",
    "\n",
    "length_cm = convert_inches_to_centimetres(8)\n",
    "print(length_cm)"
   ]
  },
  {
   "cell_type": "markdown",
   "id": "91537f2c",
   "metadata": {},
   "source": [
    "\n",
    "Below is an example of a function that takes two parameters, the length\n",
    "and width of a rectangle, and returns the area.\n"
   ]
  },
  {
   "cell_type": "code",
   "execution_count": 5,
   "id": "1ea8983a",
   "metadata": {},
   "outputs": [
    {
     "name": "stdout",
     "output_type": "stream",
     "text": [
      "63\n"
     ]
    }
   ],
   "source": [
    "def area_of_rectangle(length, width):\n",
    "   return length * width\n",
    "\n",
    "area = area_of_rectangle(9, 7)\n",
    "print(area)"
   ]
  },
  {
   "cell_type": "markdown",
   "id": "21b98d44",
   "metadata": {},
   "source": [
    "Below is an example of a function that takes two parameters and returns\n",
    "a welcome message using the name and age of a person.  \n",
    "Text joins are carried out with a `+` between the text strings.  \n",
    "`str()` is used to turn `age`, which is a integer, into a string.\n"
   ]
  },
  {
   "cell_type": "code",
   "execution_count": 6,
   "id": "2fa91977",
   "metadata": {},
   "outputs": [
    {
     "name": "stdout",
     "output_type": "stream",
     "text": [
      "Hello Peter, you are 21 years old.\n",
      "Hello Paul, you are 24 years old.\n",
      "Hello Mary, you are 19 years old.\n"
     ]
    }
   ],
   "source": [
    "def name_age_greeting(name, age):\n",
    "    return \"Hello \" + name + \", you are \" + str(age) + \" years old.\"   \n",
    "\n",
    "print(name_age_greeting(\"Peter\", 21))\n",
    "print(name_age_greeting(\"Paul\", 24))\n",
    "print(name_age_greeting(\"Mary\", 19))"
   ]
  },
  {
   "cell_type": "markdown",
   "id": "b20ad48a",
   "metadata": {},
   "source": [
    "------------------------------------------------------------------------\n",
    "\n",
    "Tasks\n",
    "\n",
    "1.  Define a function `convert_cm_to_m(cm)` that returns the result of\n",
    "    converting a length in cm to metres.\n",
    "2.  Define a function `convert_m_to_cm(m)` that returns the result of\n",
    "    converting a length in metres to cm.\n",
    "3.  Define a function `area_square(length)` that returns the area of a\n",
    "    square.\n",
    "4.  Write a function called `random_greeting` that returns a random\n",
    "    greeting that is randomly chosen from a list of greetings:\n",
    "    `[\"Hi\", \"Hello\", \"G'day\"]`. See:\n",
    "    <https://www.w3schools.com/python/ref_random_choice.asp>\n",
    "\n",
    "------------------------------------------------------------------------\n"
   ]
  },
  {
   "cell_type": "markdown",
   "id": "a0562c4b",
   "metadata": {},
   "source": [
    "## `*args`\n",
    "\n",
    "`*args` allow a function to take any number of positional arguments (non\n",
    "keyword arguments).\n",
    "\n",
    "`*num` allows a variable number of arguments to be passed in to be added\n",
    "in the `multi_add` function.  \n",
    "In the function, `num` is a tuple of the arguments.  \n",
    "For `multi_add(2,5)`, num is the tuple`(2, 5)`.  \n",
    "For `multi_add(1, 3, 5, 7, 9)`, num is the tuple `(1, 3, 5, 7, 9)`."
   ]
  },
  {
   "cell_type": "code",
   "execution_count": 7,
   "id": "12821cf8",
   "metadata": {},
   "outputs": [
    {
     "name": "stdout",
     "output_type": "stream",
     "text": [
      "7\n",
      "25\n"
     ]
    }
   ],
   "source": [
    "def multi_add(*num):\n",
    "    sum = 0\n",
    "    for n in num:\n",
    "        sum = sum + n\n",
    "    return sum\n",
    "\n",
    "print(multi_add(2, 5))\n",
    "print(multi_add(1, 3, 5, 7, 9))"
   ]
  }
 ],
 "metadata": {
  "kernelspec": {
   "display_name": "venv_general",
   "language": "python",
   "name": "python3"
  },
  "language_info": {
   "codemirror_mode": {
    "name": "ipython",
    "version": 3
   },
   "file_extension": ".py",
   "mimetype": "text/x-python",
   "name": "python",
   "nbconvert_exporter": "python",
   "pygments_lexer": "ipython3",
   "version": "3.11.1 (tags/v3.11.1:a7a450f, Dec  6 2022, 19:58:39) [MSC v.1934 64 bit (AMD64)]"
  },
  "vscode": {
   "interpreter": {
    "hash": "378e1b2f6d029d81e0e1d6a998d5f116741cab971617dd99f02e2f9096f0b2da"
   }
  }
 },
 "nbformat": 4,
 "nbformat_minor": 5
}
